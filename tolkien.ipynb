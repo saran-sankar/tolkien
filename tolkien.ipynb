{
 "cells": [
  {
   "cell_type": "code",
   "execution_count": 41,
   "metadata": {},
   "outputs": [],
   "source": [
    "from tensorflow.keras.preprocessing.sequence import pad_sequences\n",
    "from tensorflow.keras.layers import Embedding, LSTM, Dense, Dropout, Bidirectional\n",
    "from tensorflow.keras.preprocessing.text import Tokenizer\n",
    "from tensorflow.keras.models import Sequential\n",
    "from tensorflow.keras.optimizers import Adam\n",
    "from tensorflow.keras.regularizers import l2\n",
    "import tensorflow.keras.utils as ku\n",
    "import tensorflow as tf\n",
    "import numpy as np\n",
    "import re"
   ]
  },
  {
   "cell_type": "code",
   "execution_count": 42,
   "metadata": {},
   "outputs": [],
   "source": [
    "tokenizer = Tokenizer()\n",
    "\n",
    "data = open('fellowship2-small.txt').read()\n",
    "\n",
    "data = data.replace(',', 'pausesentence')\n",
    "data = data.replace('!', 'exclamationmark')\n",
    "data = data.replace('?', '.')\n",
    "\n",
    "corpus = data.lower().split(\". \")\n",
    "\n",
    "for i in range(len(corpus)):\n",
    "    corpus [i] =  corpus [i] + 'endofthesentence'\n",
    "\n",
    "tokenizer.fit_on_texts(corpus)\n",
    "total_words = len(tokenizer.word_index) + 1\n",
    "\n",
    "# create input sequences using list of tokens\n",
    "input_sequences = []\n",
    "for line in corpus:\n",
    "    token_list = tokenizer.texts_to_sequences([line])[0]\n",
    "    for i in range(1, len(token_list)):\n",
    "        n_gram_sequence = token_list[:i+1]\n",
    "        input_sequences.append(n_gram_sequence)\n",
    "\n",
    "\n",
    "# pad sequences \n",
    "max_sequence_len = max([len(x) for x in input_sequences])\n",
    "input_sequences = np.array(pad_sequences(input_sequences, maxlen=max_sequence_len, padding='pre'))\n",
    "\n",
    "# create predictors and label\n",
    "predictors, label = input_sequences[:,:-1],input_sequences[:,-1]\n",
    "\n",
    "label = ku.to_categorical(label, num_classes=total_words)"
   ]
  },
  {
   "cell_type": "code",
   "execution_count": 63,
   "metadata": {},
   "outputs": [
    {
     "data": {
      "text/plain": [
       "(2706, 342)"
      ]
     },
     "execution_count": 63,
     "metadata": {},
     "output_type": "execute_result"
    }
   ],
   "source": [
    "total_words, max_sequence_len #tokenizer.word_counts"
   ]
  },
  {
   "cell_type": "code",
   "execution_count": 59,
   "metadata": {},
   "outputs": [
    {
     "data": {
      "text/plain": [
       "1889"
      ]
     },
     "execution_count": 59,
     "metadata": {},
     "output_type": "execute_result"
    }
   ],
   "source": [
    "tokenizer.word_index['thatpausesentence']"
   ]
  },
  {
   "cell_type": "code",
   "execution_count": 44,
   "metadata": {},
   "outputs": [
    {
     "name": "stdout",
     "output_type": "stream",
     "text": [
      "_________________________________________________________________\n",
      "Layer (type)                 Output Shape              Param #   \n",
      "=================================================================\n",
      "embedding_2 (Embedding)      (None, 341, 64)           173184    \n",
      "_________________________________________________________________\n",
      "bidirectional_4 (Bidirection (None, 341, 40)           13600     \n",
      "_________________________________________________________________\n",
      "dropout_2 (Dropout)          (None, 341, 40)           0         \n",
      "_________________________________________________________________\n",
      "bidirectional_5 (Bidirection (None, 40)                9760      \n",
      "_________________________________________________________________\n",
      "dense_4 (Dense)              (None, 40)                1640      \n",
      "_________________________________________________________________\n",
      "dense_5 (Dense)              (None, 2706)              110946    \n",
      "=================================================================\n",
      "Total params: 309,130\n",
      "Trainable params: 309,130\n",
      "Non-trainable params: 0\n",
      "_________________________________________________________________\n",
      "None\n"
     ]
    }
   ],
   "source": [
    "model = Sequential()\n",
    "\n",
    "model.add(Embedding(total_words, 64, input_length=max_sequence_len-1))\n",
    "model.add(Bidirectional(LSTM(20, return_sequences=True)))\n",
    "model.add(Dropout(0.2))\n",
    "model.add(Bidirectional(LSTM(20)))\n",
    "model.add(Dense(40, activation='relu'))\n",
    "model.add(Dense(total_words, activation='softmax'))\n",
    "    \n",
    "model.compile(loss='categorical_crossentropy', optimizer=tf.train.AdamOptimizer(), metrics=['accuracy'])\n",
    "print(model.summary())"
   ]
  },
  {
   "cell_type": "code",
   "execution_count": 46,
   "metadata": {},
   "outputs": [
    {
     "name": "stdout",
     "output_type": "stream",
     "text": [
      "Epoch 1/100\n",
      "11057/11057 [==============================] - 356s 32ms/step - loss: 6.8032 - acc: 0.0668\n",
      "Epoch 2/100\n",
      "11057/11057 [==============================] - 346s 31ms/step - loss: 6.3282 - acc: 0.0680\n",
      "Epoch 3/100\n",
      "11057/11057 [==============================] - 347s 31ms/step - loss: 6.1553 - acc: 0.0714\n",
      "Epoch 4/100\n",
      "11057/11057 [==============================] - 359s 32ms/step - loss: 6.0356 - acc: 0.0767\n",
      "Epoch 5/100\n",
      "11057/11057 [==============================] - 312s 28ms/step - loss: 5.9454 - acc: 0.0802\n",
      "Epoch 6/100\n",
      "11057/11057 [==============================] - 258s 23ms/step - loss: 5.8559 - acc: 0.0813\n",
      "Epoch 7/100\n",
      "11057/11057 [==============================] - 264s 24ms/step - loss: 5.7722 - acc: 0.0881\n",
      "Epoch 8/100\n",
      "11057/11057 [==============================] - 260s 23ms/step - loss: 5.6782 - acc: 0.0971\n",
      "Epoch 9/100\n",
      "11057/11057 [==============================] - 260s 23ms/step - loss: 5.5828 - acc: 0.1029\n",
      "Epoch 10/100\n",
      "11057/11057 [==============================] - 261s 24ms/step - loss: 5.5064 - acc: 0.1078\n",
      "Epoch 11/100\n",
      "11057/11057 [==============================] - 257s 23ms/step - loss: 5.4290 - acc: 0.1112\n",
      "Epoch 12/100\n",
      "11057/11057 [==============================] - 258s 23ms/step - loss: 5.3615 - acc: 0.1152\n",
      "Epoch 13/100\n",
      "11057/11057 [==============================] - 260s 24ms/step - loss: 5.2955 - acc: 0.1178\n",
      "Epoch 14/100\n",
      "11057/11057 [==============================] - 262s 24ms/step - loss: 5.2336 - acc: 0.1215\n",
      "Epoch 15/100\n",
      "11057/11057 [==============================] - 259s 23ms/step - loss: 5.1715 - acc: 0.1241\n",
      "Epoch 16/100\n",
      "11057/11057 [==============================] - 259s 23ms/step - loss: 5.1089 - acc: 0.1285\n",
      "Epoch 17/100\n",
      "11057/11057 [==============================] - 263s 24ms/step - loss: 5.0506 - acc: 0.1277\n",
      "Epoch 18/100\n",
      "11057/11057 [==============================] - 257s 23ms/step - loss: 5.0072 - acc: 0.1325\n",
      "Epoch 19/100\n",
      "11057/11057 [==============================] - 258s 23ms/step - loss: 4.9444 - acc: 0.1320\n",
      "Epoch 20/100\n",
      "11057/11057 [==============================] - 255s 23ms/step - loss: 4.8650 - acc: 0.1383\n",
      "Epoch 21/100\n",
      "11057/11057 [==============================] - 268s 24ms/step - loss: 4.8097 - acc: 0.1395\n",
      "Epoch 22/100\n",
      "11057/11057 [==============================] - 257s 23ms/step - loss: 4.7439 - acc: 0.1448\n",
      "Epoch 23/100\n",
      "11057/11057 [==============================] - 256s 23ms/step - loss: 4.6876 - acc: 0.1444\n",
      "Epoch 24/100\n",
      "11057/11057 [==============================] - 254s 23ms/step - loss: 4.6863 - acc: 0.1471\n",
      "Epoch 25/100\n",
      "11057/11057 [==============================] - 254s 23ms/step - loss: 4.6119 - acc: 0.1504\n",
      "Epoch 26/100\n",
      "11057/11057 [==============================] - 254s 23ms/step - loss: 4.5304 - acc: 0.1551\n",
      "Epoch 27/100\n",
      "11057/11057 [==============================] - 253s 23ms/step - loss: 4.4702 - acc: 0.1601\n",
      "Epoch 28/100\n",
      "11057/11057 [==============================] - 259s 23ms/step - loss: 4.4130 - acc: 0.1647\n",
      "Epoch 29/100\n",
      "11057/11057 [==============================] - 263s 24ms/step - loss: 4.3495 - acc: 0.1661\n",
      "Epoch 30/100\n",
      "11057/11057 [==============================] - 264s 24ms/step - loss: 4.3164 - acc: 0.1698\n",
      "Epoch 31/100\n",
      "11057/11057 [==============================] - 258s 23ms/step - loss: 4.2595 - acc: 0.1726\n",
      "Epoch 32/100\n",
      "11057/11057 [==============================] - 263s 24ms/step - loss: 4.2119 - acc: 0.1765\n",
      "Epoch 33/100\n",
      "11057/11057 [==============================] - 257s 23ms/step - loss: 4.1519 - acc: 0.1768\n",
      "Epoch 34/100\n",
      "11057/11057 [==============================] - 258s 23ms/step - loss: 4.0977 - acc: 0.1831\n",
      "Epoch 35/100\n",
      "11057/11057 [==============================] - 259s 23ms/step - loss: 4.0481 - acc: 0.1841\n",
      "Epoch 36/100\n",
      "11057/11057 [==============================] - 260s 24ms/step - loss: 3.9997 - acc: 0.1829\n",
      "Epoch 37/100\n",
      "11057/11057 [==============================] - 256s 23ms/step - loss: 3.9658 - acc: 0.1896\n",
      "Epoch 38/100\n",
      "11057/11057 [==============================] - 255s 23ms/step - loss: 3.9397 - acc: 0.1908\n",
      "Epoch 39/100\n",
      "11057/11057 [==============================] - 251s 23ms/step - loss: 3.8660 - acc: 0.1969\n",
      "Epoch 40/100\n",
      "11057/11057 [==============================] - 254s 23ms/step - loss: 3.8202 - acc: 0.2058\n",
      "Epoch 41/100\n",
      "11057/11057 [==============================] - 253s 23ms/step - loss: 3.7901 - acc: 0.2104\n",
      "Epoch 42/100\n",
      "11057/11057 [==============================] - 254s 23ms/step - loss: 3.7480 - acc: 0.2067\n",
      "Epoch 43/100\n",
      "11057/11057 [==============================] - 259s 23ms/step - loss: 3.7062 - acc: 0.2128\n",
      "Epoch 44/100\n",
      "11057/11057 [==============================] - 256s 23ms/step - loss: 3.6894 - acc: 0.2143\n",
      "Epoch 45/100\n",
      "11057/11057 [==============================] - 255s 23ms/step - loss: 3.6345 - acc: 0.2218\n",
      "Epoch 46/100\n",
      "11057/11057 [==============================] - 252s 23ms/step - loss: 3.5887 - acc: 0.2270\n",
      "Epoch 47/100\n",
      "11057/11057 [==============================] - 249s 22ms/step - loss: 3.6838 - acc: 0.2137\n",
      "Epoch 48/100\n",
      "11057/11057 [==============================] - 247s 22ms/step - loss: 3.5483 - acc: 0.2307\n",
      "Epoch 49/100\n",
      "11057/11057 [==============================] - 252s 23ms/step - loss: 3.5038 - acc: 0.2411\n",
      "Epoch 50/100\n",
      "11057/11057 [==============================] - 272s 25ms/step - loss: 3.4620 - acc: 0.2432\n",
      "Epoch 51/100\n",
      "11057/11057 [==============================] - 260s 24ms/step - loss: 3.4281 - acc: 0.2465\n",
      "Epoch 52/100\n",
      "11057/11057 [==============================] - 257s 23ms/step - loss: 3.4785 - acc: 0.2416\n",
      "Epoch 53/100\n",
      "11057/11057 [==============================] - 255s 23ms/step - loss: 3.4033 - acc: 0.2512\n",
      "Epoch 54/100\n",
      "11057/11057 [==============================] - 249s 23ms/step - loss: 3.3607 - acc: 0.2549\n",
      "Epoch 55/100\n",
      "11057/11057 [==============================] - 248s 22ms/step - loss: 3.4077 - acc: 0.2539\n",
      "Epoch 56/100\n",
      "11057/11057 [==============================] - 248s 22ms/step - loss: 3.3195 - acc: 0.2597\n",
      "Epoch 57/100\n",
      "11057/11057 [==============================] - 249s 23ms/step - loss: 3.3653 - acc: 0.2553\n",
      "Epoch 58/100\n",
      "11057/11057 [==============================] - 256s 23ms/step - loss: 3.2440 - acc: 0.2712\n",
      "Epoch 59/100\n",
      "11057/11057 [==============================] - 278s 25ms/step - loss: 3.2093 - acc: 0.2763\n",
      "Epoch 60/100\n",
      "11057/11057 [==============================] - 279s 25ms/step - loss: 3.4561 - acc: 0.2532\n",
      "Epoch 61/100\n",
      "11057/11057 [==============================] - 279s 25ms/step - loss: 3.2158 - acc: 0.2786\n",
      "Epoch 62/100\n",
      "11057/11057 [==============================] - 20464s 2s/step - loss: 3.1668 - acc: 0.2852\n",
      "Epoch 63/100\n",
      "11057/11057 [==============================] - 11629s 1s/step - loss: 3.1090 - acc: 0.2898\n",
      "Epoch 64/100\n",
      "11057/11057 [==============================] - 275s 25ms/step - loss: 3.0868 - acc: 0.2993\n",
      "Epoch 65/100\n",
      "11057/11057 [==============================] - 254s 23ms/step - loss: 3.0547 - acc: 0.3014\n",
      "Epoch 66/100\n",
      "11057/11057 [==============================] - 255s 23ms/step - loss: 3.0379 - acc: 0.3031\n",
      "Epoch 67/100\n",
      "11057/11057 [==============================] - 263s 24ms/step - loss: 3.2474 - acc: 0.2819\n",
      "Epoch 68/100\n",
      "11057/11057 [==============================] - 266s 24ms/step - loss: 3.0386 - acc: 0.2994\n",
      "Epoch 69/100\n",
      "11057/11057 [==============================] - 254s 23ms/step - loss: 3.4322 - acc: 0.2555\n",
      "Epoch 70/100\n",
      "11057/11057 [==============================] - 256s 23ms/step - loss: 3.0954 - acc: 0.2946\n",
      "Epoch 71/100\n",
      "11057/11057 [==============================] - 262s 24ms/step - loss: 2.9995 - acc: 0.3118\n",
      "Epoch 72/100\n",
      "11057/11057 [==============================] - 253s 23ms/step - loss: 2.9316 - acc: 0.3200\n",
      "Epoch 73/100\n",
      "11057/11057 [==============================] - 259s 23ms/step - loss: 2.9265 - acc: 0.3227\n",
      "Epoch 74/100\n",
      "11057/11057 [==============================] - 262s 24ms/step - loss: 2.8798 - acc: 0.3291\n",
      "Epoch 75/100\n",
      "11057/11057 [==============================] - 264s 24ms/step - loss: 2.8746 - acc: 0.3287\n",
      "Epoch 76/100\n",
      "11057/11057 [==============================] - 264s 24ms/step - loss: 2.8323 - acc: 0.3420\n",
      "Epoch 77/100\n",
      "11057/11057 [==============================] - 266s 24ms/step - loss: 2.9139 - acc: 0.3249\n",
      "Epoch 78/100\n",
      "11057/11057 [==============================] - 264s 24ms/step - loss: 2.8021 - acc: 0.3418\n",
      "Epoch 79/100\n",
      "11057/11057 [==============================] - 265s 24ms/step - loss: 2.7866 - acc: 0.3439\n",
      "Epoch 80/100\n",
      "11057/11057 [==============================] - 267s 24ms/step - loss: 2.7661 - acc: 0.3470\n",
      "Epoch 81/100\n",
      "11057/11057 [==============================] - 269s 24ms/step - loss: 2.7547 - acc: 0.3535\n",
      "Epoch 82/100\n",
      "11057/11057 [==============================] - 281s 25ms/step - loss: 2.7608 - acc: 0.3484\n",
      "Epoch 83/100\n",
      "11057/11057 [==============================] - 282s 26ms/step - loss: 2.7202 - acc: 0.3585\n",
      "Epoch 84/100\n",
      "11057/11057 [==============================] - 280s 25ms/step - loss: 2.6659 - acc: 0.3688\n",
      "Epoch 85/100\n",
      "11057/11057 [==============================] - 278s 25ms/step - loss: 2.6656 - acc: 0.3645\n",
      "Epoch 86/100\n",
      "11057/11057 [==============================] - 285s 26ms/step - loss: 2.6381 - acc: 0.3705\n",
      "Epoch 87/100\n",
      "11057/11057 [==============================] - 282s 26ms/step - loss: 2.6097 - acc: 0.3798\n",
      "Epoch 88/100\n",
      "11057/11057 [==============================] - 282s 26ms/step - loss: 2.5825 - acc: 0.3782\n",
      "Epoch 89/100\n",
      "11057/11057 [==============================] - 282s 25ms/step - loss: 2.5903 - acc: 0.3802\n",
      "Epoch 90/100\n",
      "11057/11057 [==============================] - 283s 26ms/step - loss: 2.5710 - acc: 0.3831\n",
      "Epoch 91/100\n",
      "11057/11057 [==============================] - 291s 26ms/step - loss: 2.7244 - acc: 0.3554\n",
      "Epoch 92/100\n",
      "11057/11057 [==============================] - 299s 27ms/step - loss: 2.9885 - acc: 0.3204\n",
      "Epoch 93/100\n",
      "11057/11057 [==============================] - 331s 30ms/step - loss: 2.5981 - acc: 0.3773\n",
      "Epoch 94/100\n",
      "11057/11057 [==============================] - 421s 38ms/step - loss: 2.6306 - acc: 0.3744\n",
      "Epoch 95/100\n",
      "11057/11057 [==============================] - 436s 39ms/step - loss: 2.5220 - acc: 0.3909\n",
      "Epoch 96/100\n",
      "11057/11057 [==============================] - 393s 36ms/step - loss: 2.4963 - acc: 0.3962\n",
      "Epoch 97/100\n",
      "11057/11057 [==============================] - 429s 39ms/step - loss: 2.4620 - acc: 0.4062\n",
      "Epoch 98/100\n",
      "11057/11057 [==============================] - 389s 35ms/step - loss: 2.4325 - acc: 0.4115\n",
      "Epoch 99/100\n",
      "11057/11057 [==============================] - 388s 35ms/step - loss: 2.4048 - acc: 0.4150\n",
      "Epoch 100/100\n",
      "11057/11057 [==============================] - 409s 37ms/step - loss: 2.4780 - acc: 0.3988\n"
     ]
    }
   ],
   "source": [
    "history = model.fit(predictors, label, epochs=100, verbose=1)"
   ]
  },
  {
   "cell_type": "code",
   "execution_count": 47,
   "metadata": {},
   "outputs": [],
   "source": [
    "model.save_weights(\"model_dark.h5\")"
   ]
  },
  {
   "cell_type": "code",
   "execution_count": 48,
   "metadata": {},
   "outputs": [
    {
     "data": {
      "image/png": "[encoded data removed]",
      "text/plain": [
       "<Figure size 432x288 with 1 Axes>"
      ]
     },
     "metadata": {
      "needs_background": "light"
     },
     "output_type": "display_data"
    },
    {
     "data": {
      "image/png": "[encoded data removed]",
      "text/plain": [
       "<Figure size 432x288 with 1 Axes>"
      ]
     },
     "metadata": {
      "needs_background": "light"
     },
     "output_type": "display_data"
    }
   ],
   "source": [
    "import matplotlib.pyplot as plt\n",
    "acc = history.history['acc']\n",
    "loss = history.history['loss']\n",
    "\n",
    "epochs = range(len(acc))\n",
    "\n",
    "plt.plot(epochs, acc, 'b', label='Training accuracy')\n",
    "plt.title('Training accuracy')\n",
    "\n",
    "plt.figure()\n",
    "\n",
    "plt.plot(epochs, loss, 'b', label='Training Loss')\n",
    "plt.title('Training loss')\n",
    "plt.legend()\n",
    "\n",
    "plt.show()"
   ]
  },
  {
   "cell_type": "code",
   "execution_count": 61,
   "metadata": {},
   "outputs": [],
   "source": [
    "model.load_weights(\"model_dark.h5\")"
   ]
  },
  {
   "cell_type": "code",
   "execution_count": 62,
   "metadata": {},
   "outputs": [
    {
     "name": "stdout",
     "output_type": "stream",
     "text": [
      "One ring to rule them all the others were veiled in deepening dusk, and the wind was cold. Where the company hand music things were to be found, and they saw upon the walls and crawl up the road footstep that is a steady inflow of chill air out inside, into the water. Shaft they could not be disastrous. Spring over the mountains of the world! And thither we are not back up and gimli yes,' said gandalf. For us, that he said, on his staff aloft.\n",
      "\n",
      "At tears, and gimli was silent. And paused. As its spirits are tried against a great pace, and the mountains bobbing and to drag your passing towards him about the western archway could not narrow, stood down in the forge's fire came in the shadow of the forge's western sky is ashen cold on the world in the world in the floor, dwells in fear, and were rotting in the world to the mountains tall, in rivendell. It, and i had no path were to plundered common ' said gandalf. Exactly there is a fall of moria.\n",
      "\n",
      "Away! ' said gandalf, on either side, and to climb up to the mountains aloft, and at special times, or as the world of the forge's sang, but the forge's fire is ashen cold on the world in the forge's fire is ashen cold on the world in the forge's fire is ashen cold no harp is wrung, no hammer falls the mountains tall, in durin!' through the shadow falls the forge's fire is ashen cold no harp is wrung, no hammer falls the mountains tall, in queen pits or more. Times. 'then we are high into the road ' said gandalf. Round. To sam.\n",
      "\n",
      "Unwearied seemed to do then. No animal, least of the mountains they could not be folk could be folk could be seen halted, gazing at the mountains music woke and have was cold on the shadow lies upon the minstrels sang, and there 'i have not not call upon the mountains music woke the harpers harped, the minstrels sang, and there 'then the mountains i cannot actually walked upon the mountains they were laid up the forge's sang, and they was over. No harp he was in the shadow lies upon the world in the forge's fire is ashen cold no harp is wrung, no hammer falls the mountains tall, in queen over. Upon the world said gandalf. 'yes,' said the mountains tall, in rivendell.\n",
      "\n",
      "Upon the world said gandalf. 'then the delver sang, and there is plain it. To the mountains music woke the delver mined, the mountains tall, in rivendell. Upon the world said the mountains tall, in rivendell. Upon the world said gandalf.\n",
      "\n",
      "'then the mountains lies his tomb in the forge's sang, but the minstrels sang, and there he felt curiously 'or asked no hammer there was not to sam. Unwearied then they do not be thinking but he felt sorry, boromir,' for the delver mined, the mountains tall, in rivendell. Upon the\n"
     ]
    }
   ],
   "source": [
    "seed_text = \"One ring to rule them all\"\n",
    "next_words = 500\n",
    "  \n",
    "for _ in range(next_words):\n",
    "    token_list = tokenizer.texts_to_sequences([seed_text])[0]\n",
    "    token_list = pad_sequences([token_list], maxlen=max_sequence_len-1, padding='pre')\n",
    "    predicted = model.predict_classes(token_list, verbose=0)\n",
    "    output_word = \"\"\n",
    "    for word, index in tokenizer.word_index.items():\n",
    "        if index == predicted:\n",
    "            output_word = word\n",
    "            if output_word == 'endofthesentence':\n",
    "                output_word = '.'\n",
    "            break\n",
    "    seed_text += \" \" + output_word\n",
    "    \n",
    "seed_text = seed_text.replace('endofthesentence', '.')\n",
    "seed_text = seed_text.replace('pausesentence', ',')\n",
    "seed_text = seed_text.replace('exclamationmark', '!')\n",
    "\n",
    "rtn = re.split('([.!?] *)', seed_text)\n",
    "seed_text = ''.join([each.capitalize() for each in rtn])\n",
    "\n",
    "count_sentences = 0\n",
    "for i in range(len(seed_text)):\n",
    "    if seed_text[i] == '.':\n",
    "        count_sentences += 1\n",
    "        if count_sentences%5 == 0:  \n",
    "            seed_text = seed_text[:i] + '.\\n\\n' + seed_text[i+1:].strip()\n",
    "\n",
    "print(seed_text)"
   ]
  },
  {
   "cell_type": "code",
   "execution_count": null,
   "metadata": {},
   "outputs": [],
   "source": []
  }
 ],
 "metadata": {
  "kernelspec": {
   "display_name": "Python3 (tensorflow)",
   "language": "python",
   "name": "tensorflow"
  },
  "language_info": {
   "codemirror_mode": {
    "name": "ipython",
    "version": 3
   },
   "file_extension": ".py",
   "mimetype": "text/x-python",
   "name": "python",
   "nbconvert_exporter": "python",
   "pygments_lexer": "ipython3",
   "version": "3.6.3"
  }
 },
 "nbformat": 4,
 "nbformat_minor": 2
}
