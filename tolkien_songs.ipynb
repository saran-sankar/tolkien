{
 "cells": [
  {
   "cell_type": "code",
   "execution_count": 12,
   "metadata": {},
   "outputs": [],
   "source": [
    "from tensorflow.keras.preprocessing.sequence import pad_sequences\n",
    "from tensorflow.keras.layers import Embedding, LSTM, Dense, Dropout, Bidirectional\n",
    "from tensorflow.keras.preprocessing.text import Tokenizer\n",
    "from tensorflow.keras.models import Sequential\n",
    "from tensorflow.keras.optimizers import Adam\n",
    "from tensorflow.keras.regularizers import l2\n",
    "import tensorflow.keras.utils as ku\n",
    "import tensorflow as tf\n",
    "import numpy as np\n",
    "import re"
   ]
  },
  {
   "cell_type": "code",
   "execution_count": 26,
   "metadata": {},
   "outputs": [],
   "source": [
    "tokenizer = Tokenizer()\n",
    "\n",
    "data = open('fellowship-songs.txt').read()\n",
    "\n",
    "data = data.replace(',', ' pausesentence')\n",
    "data = data.replace('!', ' exclamationmark')\n",
    "data = data.replace('.', 'endofthesentence')\n",
    "data = data.replace('?', 'questionmark')\n",
    "\n",
    "corpus = data.lower().split(\"\\n\")\n",
    "\n",
    "tokenizer.fit_on_texts(corpus)\n",
    "total_words = len(tokenizer.word_index) + 1\n",
    "\n",
    "# create input sequences using list of tokens\n",
    "input_sequences = []\n",
    "for line in corpus:\n",
    "    token_list = tokenizer.texts_to_sequences([line])[0]\n",
    "    for i in range(1, len(token_list)):\n",
    "        n_gram_sequence = token_list[:i+1]\n",
    "        input_sequences.append(n_gram_sequence)\n",
    "\n",
    "\n",
    "# pad sequences \n",
    "max_sequence_len = max([len(x) for x in input_sequences])\n",
    "input_sequences = np.array(pad_sequences(input_sequences, maxlen=max_sequence_len, padding='pre'))\n",
    "\n",
    "# create predictors and label\n",
    "predictors, label = input_sequences[:,:-1],input_sequences[:,-1]\n",
    "\n",
    "label = ku.to_categorical(label, num_classes=total_words)"
   ]
  },
  {
   "cell_type": "code",
   "execution_count": 30,
   "metadata": {},
   "outputs": [
    {
     "data": {
      "text/plain": [
       "(519, 1080)"
      ]
     },
     "execution_count": 30,
     "metadata": {},
     "output_type": "execute_result"
    }
   ],
   "source": [
    "len(corpus), len(tokenizer.word_index)#, tokenizer.word_counts"
   ]
  },
  {
   "cell_type": "code",
   "execution_count": 31,
   "metadata": {},
   "outputs": [
    {
     "name": "stdout",
     "output_type": "stream",
     "text": [
      "_________________________________________________________________\n",
      "Layer (type)                 Output Shape              Param #   \n",
      "=================================================================\n",
      "embedding_5 (Embedding)      (None, 13, 64)            69120     \n",
      "_________________________________________________________________\n",
      "bidirectional_10 (Bidirectio (None, 13, 40)            13600     \n",
      "_________________________________________________________________\n",
      "dropout_5 (Dropout)          (None, 13, 40)            0         \n",
      "_________________________________________________________________\n",
      "bidirectional_11 (Bidirectio (None, 40)                9760      \n",
      "_________________________________________________________________\n",
      "dense_10 (Dense)             (None, 40)                1640      \n",
      "_________________________________________________________________\n",
      "dense_11 (Dense)             (None, 1081)              44321     \n",
      "=================================================================\n",
      "Total params: 138,441\n",
      "Trainable params: 138,441\n",
      "Non-trainable params: 0\n",
      "_________________________________________________________________\n",
      "None\n"
     ]
    }
   ],
   "source": [
    "model = Sequential()\n",
    "\n",
    "model.add(Embedding(1080, 64, input_length=max_sequence_len-1))\n",
    "model.add(Bidirectional(LSTM(20, return_sequences=True)))\n",
    "model.add(Dropout(0.2))\n",
    "model.add(Bidirectional(LSTM(20)))\n",
    "model.add(Dense(40, activation='relu'))\n",
    "model.add(Dense(total_words, activation='softmax'))\n",
    "    \n",
    "model.compile(loss='categorical_crossentropy', optimizer=tf.train.AdamOptimizer(), metrics=['accuracy'])\n",
    "print(model.summary())"
   ]
  },
  {
   "cell_type": "code",
   "execution_count": 32,
   "metadata": {},
   "outputs": [
    {
     "name": "stdout",
     "output_type": "stream",
     "text": [
      "Epoch 1/100\n",
      "3150/3150 [==============================] - 13s 4ms/step - loss: 6.5053 - acc: 0.0467\n",
      "Epoch 2/100\n",
      "3150/3150 [==============================] - 5s 2ms/step - loss: 5.9555 - acc: 0.0708\n",
      "Epoch 3/100\n",
      "3150/3150 [==============================] - 5s 2ms/step - loss: 5.8748 - acc: 0.0717\n",
      "Epoch 4/100\n",
      "3150/3150 [==============================] - 5s 1ms/step - loss: 5.7690 - acc: 0.0724\n",
      "Epoch 5/100\n",
      "3150/3150 [==============================] - 5s 1ms/step - loss: 5.6737 - acc: 0.0781\n",
      "Epoch 6/100\n",
      "3150/3150 [==============================] - 5s 1ms/step - loss: 5.5608 - acc: 0.0835\n",
      "Epoch 7/100\n",
      "3150/3150 [==============================] - 4s 1ms/step - loss: 5.4719 - acc: 0.0863\n",
      "Epoch 8/100\n",
      "3150/3150 [==============================] - 4s 1ms/step - loss: 5.3672 - acc: 0.0956\n",
      "Epoch 9/100\n",
      "3150/3150 [==============================] - 5s 2ms/step - loss: 5.2844 - acc: 0.1003\n",
      "Epoch 10/100\n",
      "3150/3150 [==============================] - 5s 2ms/step - loss: 5.2003 - acc: 0.0994\n",
      "Epoch 11/100\n",
      "3150/3150 [==============================] - 5s 2ms/step - loss: 5.1229 - acc: 0.1048\n",
      "Epoch 12/100\n",
      "3150/3150 [==============================] - 5s 2ms/step - loss: 5.0479 - acc: 0.1057\n",
      "Epoch 13/100\n",
      "3150/3150 [==============================] - 5s 2ms/step - loss: 4.9752 - acc: 0.1095\n",
      "Epoch 14/100\n",
      "3150/3150 [==============================] - 5s 1ms/step - loss: 4.9114 - acc: 0.1092\n",
      "Epoch 15/100\n",
      "3150/3150 [==============================] - 4s 1ms/step - loss: 4.8540 - acc: 0.1137\n",
      "Epoch 16/100\n",
      "3150/3150 [==============================] - 5s 2ms/step - loss: 4.7841 - acc: 0.1143\n",
      "Epoch 17/100\n",
      "3150/3150 [==============================] - 5s 2ms/step - loss: 4.7303 - acc: 0.1156\n",
      "Epoch 18/100\n",
      "3150/3150 [==============================] - 5s 2ms/step - loss: 4.6794 - acc: 0.1216\n",
      "Epoch 19/100\n",
      "3150/3150 [==============================] - 4s 1ms/step - loss: 4.6153 - acc: 0.1263\n",
      "Epoch 20/100\n",
      "3150/3150 [==============================] - 5s 2ms/step - loss: 4.5540 - acc: 0.1263\n",
      "Epoch 21/100\n",
      "3150/3150 [==============================] - 5s 2ms/step - loss: 4.4885 - acc: 0.1333\n",
      "Epoch 22/100\n",
      "3150/3150 [==============================] - 5s 1ms/step - loss: 4.4502 - acc: 0.1349\n",
      "Epoch 23/100\n",
      "3150/3150 [==============================] - 5s 2ms/step - loss: 4.3740 - acc: 0.1429\n",
      "Epoch 24/100\n",
      "3150/3150 [==============================] - 5s 2ms/step - loss: 4.3455 - acc: 0.1403\n",
      "Epoch 25/100\n",
      "3150/3150 [==============================] - 5s 2ms/step - loss: 4.2471 - acc: 0.1517\n",
      "Epoch 26/100\n",
      "3150/3150 [==============================] - 5s 2ms/step - loss: 4.1986 - acc: 0.1575\n",
      "Epoch 27/100\n",
      "3150/3150 [==============================] - 5s 2ms/step - loss: 4.1390 - acc: 0.1606\n",
      "Epoch 28/100\n",
      "3150/3150 [==============================] - 5s 2ms/step - loss: 4.0824 - acc: 0.1676\n",
      "Epoch 29/100\n",
      "3150/3150 [==============================] - 5s 2ms/step - loss: 4.0104 - acc: 0.1762\n",
      "Epoch 30/100\n",
      "3150/3150 [==============================] - 5s 1ms/step - loss: 3.9664 - acc: 0.1743\n",
      "Epoch 31/100\n",
      "3150/3150 [==============================] - 5s 1ms/step - loss: 3.9225 - acc: 0.1873\n",
      "Epoch 32/100\n",
      "3150/3150 [==============================] - 5s 1ms/step - loss: 3.8362 - acc: 0.1933\n",
      "Epoch 33/100\n",
      "3150/3150 [==============================] - 5s 2ms/step - loss: 3.7873 - acc: 0.1978\n",
      "Epoch 34/100\n",
      "3150/3150 [==============================] - 5s 2ms/step - loss: 3.7528 - acc: 0.1959\n",
      "Epoch 35/100\n",
      "3150/3150 [==============================] - 5s 2ms/step - loss: 3.6824 - acc: 0.1997\n",
      "Epoch 36/100\n",
      "3150/3150 [==============================] - 5s 2ms/step - loss: 3.6344 - acc: 0.2102\n",
      "Epoch 37/100\n",
      "3150/3150 [==============================] - 5s 2ms/step - loss: 3.5716 - acc: 0.2206\n",
      "Epoch 38/100\n",
      "3150/3150 [==============================] - 5s 1ms/step - loss: 3.5510 - acc: 0.2140\n",
      "Epoch 39/100\n",
      "3150/3150 [==============================] - 5s 2ms/step - loss: 3.4970 - acc: 0.2210\n",
      "Epoch 40/100\n",
      "3150/3150 [==============================] - 5s 1ms/step - loss: 3.4442 - acc: 0.2305\n",
      "Epoch 41/100\n",
      "3150/3150 [==============================] - 5s 2ms/step - loss: 3.3892 - acc: 0.2327\n",
      "Epoch 42/100\n",
      "3150/3150 [==============================] - 5s 1ms/step - loss: 3.3603 - acc: 0.2378\n",
      "Epoch 43/100\n",
      "3150/3150 [==============================] - 5s 1ms/step - loss: 3.3176 - acc: 0.2483\n",
      "Epoch 44/100\n",
      "3150/3150 [==============================] - 5s 2ms/step - loss: 3.2963 - acc: 0.2524\n",
      "Epoch 45/100\n",
      "3150/3150 [==============================] - 5s 2ms/step - loss: 3.2332 - acc: 0.2540\n",
      "Epoch 46/100\n",
      "3150/3150 [==============================] - 5s 2ms/step - loss: 3.1976 - acc: 0.2594\n",
      "Epoch 47/100\n",
      "3150/3150 [==============================] - 5s 2ms/step - loss: 3.1533 - acc: 0.2660\n",
      "Epoch 48/100\n",
      "3150/3150 [==============================] - 5s 2ms/step - loss: 3.1020 - acc: 0.2657\n",
      "Epoch 49/100\n",
      "3150/3150 [==============================] - 6s 2ms/step - loss: 3.0777 - acc: 0.2746\n",
      "Epoch 50/100\n",
      "3150/3150 [==============================] - 5s 2ms/step - loss: 3.0263 - acc: 0.2835\n",
      "Epoch 51/100\n",
      "3150/3150 [==============================] - 5s 2ms/step - loss: 3.0210 - acc: 0.2759\n",
      "Epoch 52/100\n",
      "3150/3150 [==============================] - 5s 1ms/step - loss: 2.9393 - acc: 0.2956\n",
      "Epoch 53/100\n",
      "3150/3150 [==============================] - 5s 1ms/step - loss: 2.9078 - acc: 0.2984\n",
      "Epoch 54/100\n",
      "3150/3150 [==============================] - 5s 2ms/step - loss: 2.8941 - acc: 0.2975\n",
      "Epoch 55/100\n",
      "3150/3150 [==============================] - 5s 1ms/step - loss: 2.8397 - acc: 0.3140\n",
      "Epoch 56/100\n",
      "3150/3150 [==============================] - 5s 2ms/step - loss: 2.8134 - acc: 0.3095\n",
      "Epoch 57/100\n",
      "3150/3150 [==============================] - 5s 1ms/step - loss: 2.8050 - acc: 0.3140\n",
      "Epoch 58/100\n",
      "3150/3150 [==============================] - 5s 2ms/step - loss: 2.7534 - acc: 0.3267\n",
      "Epoch 59/100\n",
      "3150/3150 [==============================] - 5s 2ms/step - loss: 2.6791 - acc: 0.3416\n",
      "Epoch 60/100\n",
      "3150/3150 [==============================] - 5s 2ms/step - loss: 2.6725 - acc: 0.3429\n",
      "Epoch 61/100\n",
      "3150/3150 [==============================] - 5s 2ms/step - loss: 2.6292 - acc: 0.3463\n",
      "Epoch 62/100\n",
      "3150/3150 [==============================] - 4s 1ms/step - loss: 2.5846 - acc: 0.3508\n",
      "Epoch 63/100\n",
      "3150/3150 [==============================] - 4s 1ms/step - loss: 2.5698 - acc: 0.3527\n",
      "Epoch 64/100\n",
      "3150/3150 [==============================] - 4s 1ms/step - loss: 2.5827 - acc: 0.3635\n",
      "Epoch 65/100\n",
      "3150/3150 [==============================] - 4s 1ms/step - loss: 2.5059 - acc: 0.3708\n",
      "Epoch 66/100\n",
      "3150/3150 [==============================] - 4s 1ms/step - loss: 2.4551 - acc: 0.3778\n",
      "Epoch 67/100\n",
      "3150/3150 [==============================] - 4s 1ms/step - loss: 2.4261 - acc: 0.3886\n",
      "Epoch 68/100\n",
      "3150/3150 [==============================] - 5s 2ms/step - loss: 2.4383 - acc: 0.3797\n",
      "Epoch 69/100\n",
      "3150/3150 [==============================] - 4s 1ms/step - loss: 2.3440 - acc: 0.4092\n",
      "Epoch 70/100\n",
      "3150/3150 [==============================] - 5s 2ms/step - loss: 2.3665 - acc: 0.3943\n",
      "Epoch 71/100\n",
      "3150/3150 [==============================] - 5s 2ms/step - loss: 2.3998 - acc: 0.3968\n",
      "Epoch 72/100\n",
      "3150/3150 [==============================] - 5s 2ms/step - loss: 2.2901 - acc: 0.4121\n",
      "Epoch 73/100\n",
      "3150/3150 [==============================] - 5s 1ms/step - loss: 2.2508 - acc: 0.4263\n",
      "Epoch 74/100\n",
      "3150/3150 [==============================] - 5s 2ms/step - loss: 2.2038 - acc: 0.4321\n",
      "Epoch 75/100\n",
      "3150/3150 [==============================] - 5s 1ms/step - loss: 2.1987 - acc: 0.4308\n",
      "Epoch 76/100\n",
      "3150/3150 [==============================] - 5s 1ms/step - loss: 2.1970 - acc: 0.4349\n",
      "Epoch 77/100\n",
      "3150/3150 [==============================] - 5s 2ms/step - loss: 2.1272 - acc: 0.4508\n",
      "Epoch 78/100\n",
      "3150/3150 [==============================] - 5s 2ms/step - loss: 2.0874 - acc: 0.4667\n",
      "Epoch 79/100\n",
      "3150/3150 [==============================] - 5s 1ms/step - loss: 2.0611 - acc: 0.4762\n",
      "Epoch 80/100\n",
      "3150/3150 [==============================] - 5s 1ms/step - loss: 2.0712 - acc: 0.4571\n",
      "Epoch 81/100\n",
      "3150/3150 [==============================] - 5s 1ms/step - loss: 2.0066 - acc: 0.4746\n",
      "Epoch 82/100\n",
      "3150/3150 [==============================] - 5s 1ms/step - loss: 2.0020 - acc: 0.4759\n",
      "Epoch 83/100\n"
     ]
    },
    {
     "name": "stdout",
     "output_type": "stream",
     "text": [
      "3150/3150 [==============================] - 5s 1ms/step - loss: 1.9682 - acc: 0.4927\n",
      "Epoch 84/100\n",
      "3150/3150 [==============================] - 4s 1ms/step - loss: 2.0018 - acc: 0.4803\n",
      "Epoch 85/100\n",
      "3150/3150 [==============================] - 4s 1ms/step - loss: 1.9686 - acc: 0.4857\n",
      "Epoch 86/100\n",
      "3150/3150 [==============================] - ETA: 0s - loss: 1.9128 - acc: 0.495 - 5s 1ms/step - loss: 1.9124 - acc: 0.4952\n",
      "Epoch 87/100\n",
      "3150/3150 [==============================] - 4s 1ms/step - loss: 1.8948 - acc: 0.4956A: \n",
      "Epoch 88/100\n",
      "3150/3150 [==============================] - 4s 1ms/step - loss: 1.8367 - acc: 0.5257\n",
      "Epoch 89/100\n",
      "3150/3150 [==============================] - 4s 1ms/step - loss: 1.8308 - acc: 0.5194\n",
      "Epoch 90/100\n",
      "3150/3150 [==============================] - 4s 1ms/step - loss: 1.8398 - acc: 0.5229\n",
      "Epoch 91/100\n",
      "3150/3150 [==============================] - 5s 1ms/step - loss: 1.8222 - acc: 0.5190\n",
      "Epoch 92/100\n",
      "3150/3150 [==============================] - 5s 1ms/step - loss: 1.7894 - acc: 0.5219\n",
      "Epoch 93/100\n",
      "3150/3150 [==============================] - 5s 2ms/step - loss: 1.8061 - acc: 0.5276\n",
      "Epoch 94/100\n",
      "3150/3150 [==============================] - 5s 2ms/step - loss: 1.7360 - acc: 0.5533\n",
      "Epoch 95/100\n",
      "3150/3150 [==============================] - 5s 2ms/step - loss: 1.7212 - acc: 0.5540\n",
      "Epoch 96/100\n",
      "3150/3150 [==============================] - 6s 2ms/step - loss: 1.7025 - acc: 0.5546\n",
      "Epoch 97/100\n",
      "3150/3150 [==============================] - 5s 1ms/step - loss: 1.6618 - acc: 0.5552\n",
      "Epoch 98/100\n",
      "3150/3150 [==============================] - 5s 1ms/step - loss: 1.6985 - acc: 0.5521\n",
      "Epoch 99/100\n",
      "3150/3150 [==============================] - 5s 1ms/step - loss: 1.6338 - acc: 0.5689\n",
      "Epoch 100/100\n",
      "3150/3150 [==============================] - 5s 2ms/step - loss: 1.6211 - acc: 0.5708\n"
     ]
    }
   ],
   "source": [
    "history = model.fit(predictors, label, epochs=100, verbose=1)"
   ]
  },
  {
   "cell_type": "code",
   "execution_count": 33,
   "metadata": {},
   "outputs": [
    {
     "data": {
      "image/png": "[encoded data removed]",
      "text/plain": [
       "<Figure size 432x288 with 1 Axes>"
      ]
     },
     "metadata": {
      "needs_background": "light"
     },
     "output_type": "display_data"
    },
    {
     "data": {
      "image/png": "[encoded data removed]",
      "text/plain": [
       "<Figure size 432x288 with 1 Axes>"
      ]
     },
     "metadata": {
      "needs_background": "light"
     },
     "output_type": "display_data"
    }
   ],
   "source": [
    "import matplotlib.pyplot as plt\n",
    "acc = history.history['acc']\n",
    "loss = history.history['loss']\n",
    "\n",
    "epochs = range(len(acc))\n",
    "\n",
    "plt.plot(epochs, acc, 'b', label='Training accuracy')\n",
    "plt.title('Training accuracy')\n",
    "\n",
    "plt.figure()\n",
    "\n",
    "plt.plot(epochs, loss, 'b', label='Training Loss')\n",
    "plt.title('Training loss')\n",
    "plt.legend()\n",
    "\n",
    "plt.show()"
   ]
  },
  {
   "cell_type": "code",
   "execution_count": 34,
   "metadata": {},
   "outputs": [
    {
     "name": "stdout",
     "output_type": "stream",
     "text": [
      "O galadriel! Water hot is laid, tom bombadillo! Sing! Darling!! O! Darling!! O, withywindle!! Darling!! Darling!! Darling!! O! Darling!! Darling!! Darling!! O, withywindle!! Darling!! Darling!! Darling!! O! Darling!! Darling!! Darling!! O, withywindle!! Darling!! Darling!! Darling!! O! Darling!! Darling!! Darling!! O, withywindle!! Darling!! Darling!! Darling!! O! Darling!! Darling!! Darling!! O, withywindle!! Darling!! Darling!! Darling!! O! Darling!! Darling!! Darling!! O, withywindle!! Darling!! Darling!! Darling!! O! Darling!! Darling!! Darling!! O, withywindle!! Darling!! Darling!! Darling!! O! Darling!! Darling!! Darling!! O, withywindle!! Darling!! Darling!! Darling!! O! Darling!! Darling!! Darling!! O, withywindle!! Darling!! Darling!! Darling!! O! Darling!! Darling!! Darling!! O, withywindle!! Darling!! Darling!! Darling!! O! Darling!! Darling!! Darling!! O, withywindle!! Darling!! Darling!! Darling!! O! Darling!! Darling!! Darling!! O, withywindle!! Darling!! Darling!! Darling!! O! Darling!! Darling!! Darling!! O, withywindle!! Darling!! Darling!! Darling!! O! Darling!! Darling!! Darling!! O, withywindle!! Darling!! Darling!! Darling!! O! Darling!! Darling!! Darling!! O, withywindle!! Darling!! Darling!! Darling!! O! Darling!! Darling!! Darling!! O, withywindle!! Darling!! Darling!! Darling!! O! Darling!! Darling!! Darling!! O, withywindle!! Darling!! Darling!! Darling!! O! Darling!! Darling!! Darling!! O, withywindle!! Darling!! Darling!! Darling!! O! Darling!! Darling!! Darling!! O, withywindle!! Darling!! Darling!! Darling!! O! Darling!! Darling!! Darling!! O, withywindle!! Darling\n"
     ]
    }
   ],
   "source": [
    "seed_text = \"O\"\n",
    "next_words = 500\n",
    "  \n",
    "for _ in range(next_words):\n",
    "    token_list = tokenizer.texts_to_sequences([seed_text])[0]\n",
    "    token_list = pad_sequences([token_list], maxlen=max_sequence_len-1, padding='pre')\n",
    "    predicted = model.predict_classes(token_list, verbose=0)\n",
    "    output_word = \"\"\n",
    "    for word, index in tokenizer.word_index.items():\n",
    "        if index == predicted:\n",
    "            output_word = word\n",
    "            if output_word == 'endofthesentence':\n",
    "                output_word = '.'\n",
    "            break\n",
    "    seed_text += \" \" + output_word\n",
    "    \n",
    "seed_text = seed_text.replace('endofthesentence', '.')\n",
    "seed_text = seed_text.replace('questionmark', '?')\n",
    "seed_text = seed_text.replace(' pausesentence', ',')\n",
    "seed_text = seed_text.replace(' exclamationmark', '!')\n",
    "seed_text = seed_text.replace('endofline', '\\n')\n",
    "\n",
    "rtn = re.split('([.!?] *)', seed_text)\n",
    "seed_text = ''.join([each.capitalize() for each in rtn])\n",
    "\n",
    "count_sentences = 0\n",
    "for i in range(len(seed_text)):\n",
    "    if seed_text[i] == '\\n':\n",
    "        count_sentences += 1\n",
    "        if count_sentences%5 == 0:  \n",
    "            seed_text = seed_text[:i] + '\\n\\n' + seed_text[i+1:].strip()\n",
    "\n",
    "print(seed_text)"
   ]
  },
  {
   "cell_type": "code",
   "execution_count": 25,
   "metadata": {},
   "outputs": [
    {
     "ename": "ValueError",
     "evalue": "Shapes (40, 1158) and (40, 1081) are incompatible",
     "output_type": "error",
     "traceback": [
      "\u001b[0;31m---------------------------------------------------------------------------\u001b[0m",
      "\u001b[0;31mValueError\u001b[0m                                Traceback (most recent call last)",
      "\u001b[0;32m<ipython-input-25-00796c16c683>\u001b[0m in \u001b[0;36m<module>\u001b[0;34m()\u001b[0m\n\u001b[0;32m----> 1\u001b[0;31m \u001b[0mmodel\u001b[0m\u001b[0;34m.\u001b[0m\u001b[0mload_weights\u001b[0m\u001b[0;34m(\u001b[0m\u001b[0;34m\"model_for_song.h5\"\u001b[0m\u001b[0;34m)\u001b[0m\u001b[0;34m\u001b[0m\u001b[0m\n\u001b[0m",
      "\u001b[0;32m~/tensorflow/lib/python3.6/site-packages/tensorflow/python/keras/engine/network.py\u001b[0m in \u001b[0;36mload_weights\u001b[0;34m(self, filepath, by_name)\u001b[0m\n\u001b[1;32m   1446\u001b[0m         \u001b[0msaving\u001b[0m\u001b[0;34m.\u001b[0m\u001b[0mload_weights_from_hdf5_group_by_name\u001b[0m\u001b[0;34m(\u001b[0m\u001b[0mf\u001b[0m\u001b[0;34m,\u001b[0m \u001b[0mself\u001b[0m\u001b[0;34m.\u001b[0m\u001b[0mlayers\u001b[0m\u001b[0;34m)\u001b[0m\u001b[0;34m\u001b[0m\u001b[0m\n\u001b[1;32m   1447\u001b[0m       \u001b[0;32melse\u001b[0m\u001b[0;34m:\u001b[0m\u001b[0;34m\u001b[0m\u001b[0m\n\u001b[0;32m-> 1448\u001b[0;31m         \u001b[0msaving\u001b[0m\u001b[0;34m.\u001b[0m\u001b[0mload_weights_from_hdf5_group\u001b[0m\u001b[0;34m(\u001b[0m\u001b[0mf\u001b[0m\u001b[0;34m,\u001b[0m \u001b[0mself\u001b[0m\u001b[0;34m.\u001b[0m\u001b[0mlayers\u001b[0m\u001b[0;34m)\u001b[0m\u001b[0;34m\u001b[0m\u001b[0m\n\u001b[0m\u001b[1;32m   1449\u001b[0m \u001b[0;34m\u001b[0m\u001b[0m\n\u001b[1;32m   1450\u001b[0m   \u001b[0;32mdef\u001b[0m \u001b[0m_post_build_cleanup\u001b[0m\u001b[0;34m(\u001b[0m\u001b[0mself\u001b[0m\u001b[0;34m)\u001b[0m\u001b[0;34m:\u001b[0m\u001b[0;34m\u001b[0m\u001b[0m\n",
      "\u001b[0;32m~/tensorflow/lib/python3.6/site-packages/tensorflow/python/keras/engine/saving.py\u001b[0m in \u001b[0;36mload_weights_from_hdf5_group\u001b[0;34m(f, layers)\u001b[0m\n\u001b[1;32m    800\u001b[0m                        str(len(weight_values)) + ' elements.')\n\u001b[1;32m    801\u001b[0m     \u001b[0mweight_value_tuples\u001b[0m \u001b[0;34m+=\u001b[0m \u001b[0mzip\u001b[0m\u001b[0;34m(\u001b[0m\u001b[0msymbolic_weights\u001b[0m\u001b[0;34m,\u001b[0m \u001b[0mweight_values\u001b[0m\u001b[0;34m)\u001b[0m\u001b[0;34m\u001b[0m\u001b[0m\n\u001b[0;32m--> 802\u001b[0;31m   \u001b[0mK\u001b[0m\u001b[0;34m.\u001b[0m\u001b[0mbatch_set_value\u001b[0m\u001b[0;34m(\u001b[0m\u001b[0mweight_value_tuples\u001b[0m\u001b[0;34m)\u001b[0m\u001b[0;34m\u001b[0m\u001b[0m\n\u001b[0m\u001b[1;32m    803\u001b[0m \u001b[0;34m\u001b[0m\u001b[0m\n\u001b[1;32m    804\u001b[0m \u001b[0;34m\u001b[0m\u001b[0m\n",
      "\u001b[0;32m~/tensorflow/lib/python3.6/site-packages/tensorflow/python/keras/backend.py\u001b[0m in \u001b[0;36mbatch_set_value\u001b[0;34m(tuples)\u001b[0m\n\u001b[1;32m   2712\u001b[0m           assign_placeholder = array_ops.placeholder(tf_dtype,\n\u001b[1;32m   2713\u001b[0m                                                      shape=value.shape)\n\u001b[0;32m-> 2714\u001b[0;31m           \u001b[0massign_op\u001b[0m \u001b[0;34m=\u001b[0m \u001b[0mx\u001b[0m\u001b[0;34m.\u001b[0m\u001b[0massign\u001b[0m\u001b[0;34m(\u001b[0m\u001b[0massign_placeholder\u001b[0m\u001b[0;34m)\u001b[0m\u001b[0;34m\u001b[0m\u001b[0m\n\u001b[0m\u001b[1;32m   2715\u001b[0m           \u001b[0mx\u001b[0m\u001b[0;34m.\u001b[0m\u001b[0m_assign_placeholder\u001b[0m \u001b[0;34m=\u001b[0m \u001b[0massign_placeholder\u001b[0m\u001b[0;34m\u001b[0m\u001b[0m\n\u001b[1;32m   2716\u001b[0m           \u001b[0mx\u001b[0m\u001b[0;34m.\u001b[0m\u001b[0m_assign_op\u001b[0m \u001b[0;34m=\u001b[0m \u001b[0massign_op\u001b[0m\u001b[0;34m\u001b[0m\u001b[0m\n",
      "\u001b[0;32m~/tensorflow/lib/python3.6/site-packages/tensorflow/python/ops/resource_variable_ops.py\u001b[0m in \u001b[0;36massign\u001b[0;34m(self, value, use_locking, name, read_value)\u001b[0m\n\u001b[1;32m    961\u001b[0m     \u001b[0;32mwith\u001b[0m \u001b[0m_handle_graph\u001b[0m\u001b[0;34m(\u001b[0m\u001b[0mself\u001b[0m\u001b[0;34m.\u001b[0m\u001b[0mhandle\u001b[0m\u001b[0;34m)\u001b[0m\u001b[0;34m:\u001b[0m\u001b[0;34m\u001b[0m\u001b[0m\n\u001b[1;32m    962\u001b[0m       \u001b[0mvalue_tensor\u001b[0m \u001b[0;34m=\u001b[0m \u001b[0mops\u001b[0m\u001b[0;34m.\u001b[0m\u001b[0mconvert_to_tensor\u001b[0m\u001b[0;34m(\u001b[0m\u001b[0mvalue\u001b[0m\u001b[0;34m,\u001b[0m \u001b[0mdtype\u001b[0m\u001b[0;34m=\u001b[0m\u001b[0mself\u001b[0m\u001b[0;34m.\u001b[0m\u001b[0mdtype\u001b[0m\u001b[0;34m)\u001b[0m\u001b[0;34m\u001b[0m\u001b[0m\n\u001b[0;32m--> 963\u001b[0;31m       \u001b[0mself\u001b[0m\u001b[0;34m.\u001b[0m\u001b[0m_shape\u001b[0m\u001b[0;34m.\u001b[0m\u001b[0massert_is_compatible_with\u001b[0m\u001b[0;34m(\u001b[0m\u001b[0mvalue_tensor\u001b[0m\u001b[0;34m.\u001b[0m\u001b[0mshape\u001b[0m\u001b[0;34m)\u001b[0m\u001b[0;34m\u001b[0m\u001b[0m\n\u001b[0m\u001b[1;32m    964\u001b[0m       assign_op = gen_resource_variable_ops.assign_variable_op(\n\u001b[1;32m    965\u001b[0m           self.handle, value_tensor, name=name)\n",
      "\u001b[0;32m~/tensorflow/lib/python3.6/site-packages/tensorflow/python/framework/tensor_shape.py\u001b[0m in \u001b[0;36massert_is_compatible_with\u001b[0;34m(self, other)\u001b[0m\n\u001b[1;32m    845\u001b[0m     \"\"\"\n\u001b[1;32m    846\u001b[0m     \u001b[0;32mif\u001b[0m \u001b[0;32mnot\u001b[0m \u001b[0mself\u001b[0m\u001b[0;34m.\u001b[0m\u001b[0mis_compatible_with\u001b[0m\u001b[0;34m(\u001b[0m\u001b[0mother\u001b[0m\u001b[0;34m)\u001b[0m\u001b[0;34m:\u001b[0m\u001b[0;34m\u001b[0m\u001b[0m\n\u001b[0;32m--> 847\u001b[0;31m       \u001b[0;32mraise\u001b[0m \u001b[0mValueError\u001b[0m\u001b[0;34m(\u001b[0m\u001b[0;34m\"Shapes %s and %s are incompatible\"\u001b[0m \u001b[0;34m%\u001b[0m \u001b[0;34m(\u001b[0m\u001b[0mself\u001b[0m\u001b[0;34m,\u001b[0m \u001b[0mother\u001b[0m\u001b[0;34m)\u001b[0m\u001b[0;34m)\u001b[0m\u001b[0;34m\u001b[0m\u001b[0m\n\u001b[0m\u001b[1;32m    848\u001b[0m \u001b[0;34m\u001b[0m\u001b[0m\n\u001b[1;32m    849\u001b[0m   \u001b[0;32mdef\u001b[0m \u001b[0mmost_specific_compatible_shape\u001b[0m\u001b[0;34m(\u001b[0m\u001b[0mself\u001b[0m\u001b[0;34m,\u001b[0m \u001b[0mother\u001b[0m\u001b[0;34m)\u001b[0m\u001b[0;34m:\u001b[0m\u001b[0;34m\u001b[0m\u001b[0m\n",
      "\u001b[0;31mValueError\u001b[0m: Shapes (40, 1158) and (40, 1081) are incompatible"
     ]
    }
   ],
   "source": [
    "model.load_weights(\"model_for_song.h5\")"
   ]
  },
  {
   "cell_type": "code",
   "execution_count": 10,
   "metadata": {},
   "outputs": [],
   "source": [
    "#model.save_weights(\"model_for_song.h5\")"
   ]
  },
  {
   "cell_type": "code",
   "execution_count": null,
   "metadata": {},
   "outputs": [],
   "source": []
  }
 ],
 "metadata": {
  "kernelspec": {
   "display_name": "Python3 (tensorflow)",
   "language": "python",
   "name": "tensorflow"
  },
  "language_info": {
   "codemirror_mode": {
    "name": "ipython",
    "version": 3
   },
   "file_extension": ".py",
   "mimetype": "text/x-python",
   "name": "python",
   "nbconvert_exporter": "python",
   "pygments_lexer": "ipython3",
   "version": "3.6.3"
  }
 },
 "nbformat": 4,
 "nbformat_minor": 2
}
