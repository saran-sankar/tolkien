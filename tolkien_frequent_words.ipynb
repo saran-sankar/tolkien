{
 "cells": [
  {
   "cell_type": "code",
   "execution_count": 32,
   "metadata": {},
   "outputs": [],
   "source": [
    "from tensorflow.keras.preprocessing.sequence import pad_sequences\n",
    "from tensorflow.keras.layers import Embedding, LSTM, Dense, Dropout, Bidirectional\n",
    "from tensorflow.keras.preprocessing.text import Tokenizer\n",
    "from tensorflow.keras.models import Sequential\n",
    "from tensorflow.keras.optimizers import Adam\n",
    "from tensorflow.keras.regularizers import l2\n",
    "import tensorflow.keras.utils as ku\n",
    "import tensorflow as tf\n",
    "import numpy as np"
   ]
  },
  {
   "cell_type": "code",
   "execution_count": 51,
   "metadata": {},
   "outputs": [
    {
     "ename": "KeyboardInterrupt",
     "evalue": "",
     "output_type": "error",
     "traceback": [
      "\u001b[0;31m---------------------------------------------------------------------------\u001b[0m",
      "\u001b[0;31mKeyboardInterrupt\u001b[0m                         Traceback (most recent call last)",
      "\u001b[0;32m<ipython-input-51-3467b4d0114a>\u001b[0m in \u001b[0;36m<module>\u001b[0;34m()\u001b[0m\n\u001b[1;32m     23\u001b[0m \u001b[0;32mfor\u001b[0m \u001b[0mi\u001b[0m \u001b[0;32min\u001b[0m \u001b[0mrange\u001b[0m\u001b[0;34m(\u001b[0m\u001b[0mlen\u001b[0m\u001b[0;34m(\u001b[0m\u001b[0mcorpus\u001b[0m\u001b[0;34m)\u001b[0m\u001b[0;34m)\u001b[0m\u001b[0;34m:\u001b[0m\u001b[0;34m\u001b[0m\u001b[0m\n\u001b[1;32m     24\u001b[0m     \u001b[0;32mfor\u001b[0m \u001b[0mword\u001b[0m \u001b[0;32min\u001b[0m \u001b[0minfrequent_words\u001b[0m\u001b[0;34m:\u001b[0m\u001b[0;34m\u001b[0m\u001b[0m\n\u001b[0;32m---> 25\u001b[0;31m         \u001b[0mcorpus_for_words\u001b[0m\u001b[0;34m[\u001b[0m\u001b[0mi\u001b[0m\u001b[0;34m]\u001b[0m \u001b[0;34m=\u001b[0m \u001b[0mcorpus_for_words\u001b[0m\u001b[0;34m[\u001b[0m\u001b[0mi\u001b[0m\u001b[0;34m]\u001b[0m\u001b[0;34m.\u001b[0m\u001b[0mreplace\u001b[0m\u001b[0;34m(\u001b[0m\u001b[0;34m' '\u001b[0m\u001b[0;34m+\u001b[0m\u001b[0mword\u001b[0m\u001b[0;34m+\u001b[0m\u001b[0;34m' '\u001b[0m\u001b[0;34m,\u001b[0m \u001b[0;34m' '\u001b[0m\u001b[0;34m)\u001b[0m\u001b[0;34m\u001b[0m\u001b[0m\n\u001b[0m\u001b[1;32m     26\u001b[0m \u001b[0;34m\u001b[0m\u001b[0m\n\u001b[1;32m     27\u001b[0m \u001b[0mtokenizer\u001b[0m \u001b[0;34m=\u001b[0m \u001b[0mTokenizer\u001b[0m\u001b[0;34m(\u001b[0m\u001b[0;34m)\u001b[0m\u001b[0;34m\u001b[0m\u001b[0m\n",
      "\u001b[0;31mKeyboardInterrupt\u001b[0m: "
     ]
    }
   ],
   "source": [
    "tokenizer = Tokenizer()\n",
    "\n",
    "data = open('texts/fellowship2-smaller.txt').read()\n",
    "\n",
    "data = data.replace(',', 'pausesentence')\n",
    "data = data.replace('!', 'exclamationmark')\n",
    "data = data.replace('?', '.')\n",
    "\n",
    "corpus = data.lower().split(\". \")\n",
    "\n",
    "for i in range(len(corpus)):\n",
    "    corpus [i] =  corpus [i] + 'endofthesentence'\n",
    "\n",
    "tokenizer.fit_on_texts(corpus)\n",
    "\n",
    "infrequent_words = []\n",
    "for word in list(tokenizer.word_counts):\n",
    "    if tokenizer.word_counts[word]<5:\n",
    "        infrequent_words.append(word)\n",
    "\n",
    "#remove infrequent words from the tokenizer\n",
    "corpus_for_words = list(corpus)\n",
    "for i in range(len(corpus)):\n",
    "    for word in infrequent_words:\n",
    "        corpus_for_words[i] = corpus_for_words[i].replace(' '+word+' ', ' ')\n",
    "  \n",
    "tokenizer = Tokenizer()\n",
    "tokenizer.fit_on_texts(corpus_for_words)\n",
    "total_words = len(tokenizer.word_index) + 1\n",
    "\n",
    "# create input sequences using list of tokens\n",
    "input_sequences = []\n",
    "for line in corpus:\n",
    "    token_list = tokenizer.texts_to_sequences([line])[0]\n",
    "    for i in range(1, len(token_list)):\n",
    "        n_gram_sequence = token_list[:i+1]\n",
    "        input_sequences.append(n_gram_sequence)\n",
    "\n",
    "# pad sequences \n",
    "max_sequence_len = max([len(x) for x in input_sequences])\n",
    "input_sequences = np.array(pad_sequences(input_sequences, maxlen=max_sequence_len, padding='pre'))\n",
    "\n",
    "# create predictors and label\n",
    "predictors, label = input_sequences[:,:-1],input_sequences[:,-1]\n",
    "\n",
    "label = ku.to_categorical(label, num_classes=total_words)"
   ]
  },
  {
   "cell_type": "code",
   "execution_count": 45,
   "metadata": {},
   "outputs": [
    {
     "data": {
      "text/plain": [
       "(379, 702)"
      ]
     },
     "execution_count": 45,
     "metadata": {},
     "output_type": "execute_result"
    }
   ],
   "source": [
    "len(corpus), total_words"
   ]
  },
  {
   "cell_type": "code",
   "execution_count": 46,
   "metadata": {},
   "outputs": [],
   "source": [
    "#tokenizer.word_counts"
   ]
  },
  {
   "cell_type": "code",
   "execution_count": 47,
   "metadata": {},
   "outputs": [
    {
     "name": "stdout",
     "output_type": "stream",
     "text": [
      "_________________________________________________________________\n",
      "Layer (type)                 Output Shape              Param #   \n",
      "=================================================================\n",
      "embedding_7 (Embedding)      (None, 61, 64)            44928     \n",
      "_________________________________________________________________\n",
      "bidirectional_14 (Bidirectio (None, 61, 40)            13600     \n",
      "_________________________________________________________________\n",
      "dropout_7 (Dropout)          (None, 61, 40)            0         \n",
      "_________________________________________________________________\n",
      "bidirectional_15 (Bidirectio (None, 40)                9760      \n",
      "_________________________________________________________________\n",
      "dense_12 (Dense)             (None, 40)                1640      \n",
      "_________________________________________________________________\n",
      "dense_13 (Dense)             (None, 702)               28782     \n",
      "=================================================================\n",
      "Total params: 98,710\n",
      "Trainable params: 98,710\n",
      "Non-trainable params: 0\n",
      "_________________________________________________________________\n",
      "None\n"
     ]
    }
   ],
   "source": [
    "model = Sequential()\n",
    "\n",
    "model.add(Embedding(total_words, 64, input_length=max_sequence_len-1))\n",
    "model.add(Bidirectional(LSTM(20, return_sequences=True)))\n",
    "model.add(Dropout(0.6))\n",
    "model.add(Bidirectional(LSTM(20)))\n",
    "model.add(Dense(40, activation='relu'))\n",
    "model.add(Dense(total_words, activation='softmax'))\n",
    "    \n",
    "model.compile(loss='categorical_crossentropy', optimizer=tf.train.AdamOptimizer(), metrics=['accuracy'])\n",
    "print(model.summary())"
   ]
  },
  {
   "cell_type": "code",
   "execution_count": 48,
   "metadata": {},
   "outputs": [
    {
     "name": "stdout",
     "output_type": "stream",
     "text": [
      "Epoch 1/100\n",
      "5382/5382 [==============================] - 50s 9ms/step - loss: 5.6244 - acc: 0.0912\n",
      "Epoch 2/100\n",
      "5382/5382 [==============================] - 38s 7ms/step - loss: 5.2377 - acc: 0.0977\n",
      "Epoch 3/100\n",
      "5382/5382 [==============================] - 35s 7ms/step - loss: 5.2082 - acc: 0.0977\n",
      "Epoch 4/100\n",
      "5382/5382 [==============================] - 34s 6ms/step - loss: 5.1696 - acc: 0.1009\n",
      "Epoch 5/100\n",
      "5382/5382 [==============================] - 35s 6ms/step - loss: 5.1183 - acc: 0.1070\n",
      "Epoch 6/100\n",
      "5382/5382 [==============================] - 42s 8ms/step - loss: 5.0600 - acc: 0.1094\n",
      "Epoch 7/100\n",
      "5382/5382 [==============================] - 44s 8ms/step - loss: 5.0158 - acc: 0.1130\n",
      "Epoch 8/100\n",
      "5382/5382 [==============================] - 45s 8ms/step - loss: 4.9786 - acc: 0.1145\n",
      "Epoch 9/100\n",
      "5382/5382 [==============================] - 38s 7ms/step - loss: 4.9519 - acc: 0.1156\n",
      "Epoch 10/100\n",
      "5382/5382 [==============================] - 37s 7ms/step - loss: 4.9218 - acc: 0.1161\n",
      "Epoch 11/100\n",
      "5382/5382 [==============================] - 36s 7ms/step - loss: 4.8989 - acc: 0.1210\n",
      "Epoch 12/100\n",
      "5382/5382 [==============================] - 39s 7ms/step - loss: 4.8710 - acc: 0.1219\n",
      "Epoch 13/100\n",
      "5382/5382 [==============================] - 35s 6ms/step - loss: 4.8415 - acc: 0.1208\n",
      "Epoch 14/100\n",
      "5382/5382 [==============================] - 34s 6ms/step - loss: 4.8175 - acc: 0.1254\n",
      "Epoch 15/100\n",
      "5382/5382 [==============================] - 41s 8ms/step - loss: 4.7936 - acc: 0.1234\n",
      "Epoch 16/100\n",
      "5382/5382 [==============================] - 39s 7ms/step - loss: 4.7698 - acc: 0.1284\n",
      "Epoch 17/100\n",
      "5382/5382 [==============================] - 38s 7ms/step - loss: 4.7352 - acc: 0.1286\n",
      "Epoch 18/100\n",
      "5382/5382 [==============================] - 37s 7ms/step - loss: 4.7201 - acc: 0.1293\n",
      "Epoch 19/100\n",
      "5382/5382 [==============================] - 41s 8ms/step - loss: 4.7056 - acc: 0.1256\n",
      "Epoch 20/100\n",
      "5382/5382 [==============================] - 42s 8ms/step - loss: 4.6530 - acc: 0.1332\n",
      "Epoch 21/100\n",
      "5382/5382 [==============================] - 34s 6ms/step - loss: 4.6106 - acc: 0.1358\n",
      "Epoch 22/100\n",
      "5382/5382 [==============================] - 34s 6ms/step - loss: 4.5876 - acc: 0.1334\n",
      "Epoch 23/100\n",
      "5382/5382 [==============================] - 34s 6ms/step - loss: 4.5714 - acc: 0.1390\n",
      "Epoch 24/100\n",
      "5382/5382 [==============================] - 34s 6ms/step - loss: 4.5835 - acc: 0.1375\n",
      "Epoch 25/100\n",
      "5382/5382 [==============================] - 34s 6ms/step - loss: 4.5443 - acc: 0.1386\n",
      "Epoch 26/100\n",
      "5382/5382 [==============================] - 34s 6ms/step - loss: 4.5218 - acc: 0.1403\n",
      "Epoch 27/100\n",
      "5382/5382 [==============================] - 34s 6ms/step - loss: 4.4733 - acc: 0.1423\n",
      "Epoch 28/100\n",
      "5382/5382 [==============================] - 34s 6ms/step - loss: 4.4399 - acc: 0.1444\n",
      "Epoch 29/100\n",
      "5382/5382 [==============================] - 34s 6ms/step - loss: 4.4433 - acc: 0.1438\n",
      "Epoch 30/100\n",
      "5382/5382 [==============================] - 34s 6ms/step - loss: 4.4452 - acc: 0.1433\n",
      "Epoch 31/100\n",
      "5382/5382 [==============================] - 34s 6ms/step - loss: 4.3797 - acc: 0.1462\n",
      "Epoch 32/100\n",
      "5382/5382 [==============================] - 34s 6ms/step - loss: 4.3532 - acc: 0.1529\n",
      "Epoch 33/100\n",
      "5382/5382 [==============================] - 37s 7ms/step - loss: 4.3303 - acc: 0.1525\n",
      "Epoch 34/100\n",
      "5382/5382 [==============================] - 52s 10ms/step - loss: 4.2995 - acc: 0.1553\n",
      "Epoch 35/100\n",
      "5382/5382 [==============================] - 47s 9ms/step - loss: 4.2822 - acc: 0.1548\n",
      "Epoch 36/100\n",
      "5382/5382 [==============================] - 37s 7ms/step - loss: 4.2589 - acc: 0.1548\n",
      "Epoch 37/100\n",
      "5382/5382 [==============================] - 35s 6ms/step - loss: 4.2284 - acc: 0.1609\n",
      "Epoch 38/100\n",
      "5382/5382 [==============================] - 34s 6ms/step - loss: 4.2106 - acc: 0.1564\n",
      "Epoch 39/100\n",
      "5382/5382 [==============================] - 34s 6ms/step - loss: 4.1942 - acc: 0.1574\n",
      "Epoch 40/100\n",
      "5382/5382 [==============================] - 34s 6ms/step - loss: 4.1736 - acc: 0.1590\n",
      "Epoch 41/100\n",
      "5382/5382 [==============================] - 34s 6ms/step - loss: 4.1643 - acc: 0.1605\n",
      "Epoch 42/100\n",
      "5382/5382 [==============================] - 34s 6ms/step - loss: 4.1528 - acc: 0.1581\n",
      "Epoch 43/100\n",
      "5382/5382 [==============================] - 34s 6ms/step - loss: 4.1814 - acc: 0.1583\n",
      "Epoch 44/100\n",
      "5382/5382 [==============================] - 33s 6ms/step - loss: 4.1853 - acc: 0.1594\n",
      "Epoch 45/100\n",
      "5382/5382 [==============================] - 34s 6ms/step - loss: 4.1117 - acc: 0.1616\n",
      "Epoch 46/100\n",
      "5382/5382 [==============================] - 34s 6ms/step - loss: 4.0779 - acc: 0.1631\n",
      "Epoch 47/100\n",
      "5382/5382 [==============================] - 33s 6ms/step - loss: 4.0594 - acc: 0.1665\n",
      "Epoch 48/100\n",
      "5382/5382 [==============================] - 34s 6ms/step - loss: 4.0364 - acc: 0.1648\n",
      "Epoch 49/100\n",
      "5382/5382 [==============================] - 34s 6ms/step - loss: 4.0209 - acc: 0.1665\n",
      "Epoch 50/100\n",
      "5382/5382 [==============================] - 34s 6ms/step - loss: 3.9933 - acc: 0.1676\n",
      "Epoch 51/100\n",
      "5382/5382 [==============================] - 34s 6ms/step - loss: 3.9729 - acc: 0.1661\n",
      "Epoch 52/100\n",
      "5382/5382 [==============================] - 34s 6ms/step - loss: 3.9405 - acc: 0.1670\n",
      "Epoch 53/100\n",
      "5382/5382 [==============================] - 34s 6ms/step - loss: 3.9465 - acc: 0.1719\n",
      "Epoch 54/100\n",
      "5382/5382 [==============================] - 34s 6ms/step - loss: 3.9079 - acc: 0.1721\n",
      "Epoch 55/100\n",
      "5382/5382 [==============================] - 34s 6ms/step - loss: 3.9048 - acc: 0.1730\n",
      "Epoch 56/100\n",
      "5382/5382 [==============================] - 34s 6ms/step - loss: 3.8797 - acc: 0.1715\n",
      "Epoch 57/100\n",
      "5382/5382 [==============================] - 34s 6ms/step - loss: 3.8550 - acc: 0.1745\n",
      "Epoch 58/100\n",
      "5382/5382 [==============================] - 34s 6ms/step - loss: 3.8548 - acc: 0.1734\n",
      "Epoch 59/100\n",
      "5382/5382 [==============================] - 34s 6ms/step - loss: 3.8214 - acc: 0.1756\n",
      "Epoch 60/100\n",
      "5382/5382 [==============================] - 34s 6ms/step - loss: 3.8191 - acc: 0.1734\n",
      "Epoch 61/100\n",
      "5382/5382 [==============================] - 34s 6ms/step - loss: 3.7855 - acc: 0.1841\n",
      "Epoch 62/100\n",
      "5382/5382 [==============================] - 34s 6ms/step - loss: 3.7838 - acc: 0.1776\n",
      "Epoch 63/100\n",
      "5382/5382 [==============================] - 34s 6ms/step - loss: 3.7693 - acc: 0.1748\n",
      "Epoch 64/100\n",
      "5382/5382 [==============================] - 34s 6ms/step - loss: 3.7456 - acc: 0.1843\n",
      "Epoch 65/100\n",
      "5382/5382 [==============================] - 33s 6ms/step - loss: 3.7050 - acc: 0.1895\n",
      "Epoch 66/100\n",
      "5382/5382 [==============================] - 34s 6ms/step - loss: 3.6812 - acc: 0.1884\n",
      "Epoch 67/100\n",
      "5382/5382 [==============================] - 34s 6ms/step - loss: 3.6829 - acc: 0.1873\n",
      "Epoch 68/100\n",
      "5382/5382 [==============================] - 34s 6ms/step - loss: 3.6674 - acc: 0.1914\n",
      "Epoch 69/100\n",
      "5382/5382 [==============================] - 36s 7ms/step - loss: 3.6387 - acc: 0.1932\n",
      "Epoch 70/100\n",
      "5382/5382 [==============================] - 35s 7ms/step - loss: 3.6387 - acc: 0.1931\n",
      "Epoch 71/100\n",
      "5382/5382 [==============================] - 36s 7ms/step - loss: 3.6554 - acc: 0.1940\n",
      "Epoch 72/100\n",
      "5382/5382 [==============================] - 36s 7ms/step - loss: 3.5908 - acc: 0.1932\n",
      "Epoch 73/100\n",
      "5382/5382 [==============================] - 35s 7ms/step - loss: 3.5974 - acc: 0.1966\n",
      "Epoch 74/100\n",
      "5382/5382 [==============================] - 35s 6ms/step - loss: 3.5973 - acc: 0.1901\n",
      "Epoch 75/100\n",
      "5382/5382 [==============================] - 36s 7ms/step - loss: 3.5878 - acc: 0.1992\n",
      "Epoch 76/100\n",
      "5382/5382 [==============================] - 36s 7ms/step - loss: 3.8156 - acc: 0.1845\n",
      "Epoch 77/100\n",
      "5382/5382 [==============================] - 36s 7ms/step - loss: 3.6363 - acc: 0.1927\n",
      "Epoch 78/100\n",
      "5382/5382 [==============================] - 36s 7ms/step - loss: 3.5540 - acc: 0.1951\n",
      "Epoch 79/100\n",
      "5382/5382 [==============================] - 31s 6ms/step - loss: 3.5169 - acc: 0.2029\n",
      "Epoch 80/100\n",
      "5382/5382 [==============================] - 25s 5ms/step - loss: 3.4835 - acc: 0.2055\n",
      "Epoch 81/100\n",
      "5382/5382 [==============================] - 26s 5ms/step - loss: 3.4662 - acc: 0.2092\n",
      "Epoch 82/100\n",
      "5382/5382 [==============================] - 25s 5ms/step - loss: 3.4563 - acc: 0.2064\n",
      "Epoch 83/100\n"
     ]
    },
    {
     "name": "stdout",
     "output_type": "stream",
     "text": [
      "5382/5382 [==============================] - 25s 5ms/step - loss: 3.4390 - acc: 0.2170\n",
      "Epoch 84/100\n",
      "5382/5382 [==============================] - 25s 5ms/step - loss: 3.4470 - acc: 0.2107\n",
      "Epoch 85/100\n",
      "5382/5382 [==============================] - 25s 5ms/step - loss: 3.4170 - acc: 0.2179\n",
      "Epoch 86/100\n",
      "5382/5382 [==============================] - 25s 5ms/step - loss: 3.4168 - acc: 0.2148\n",
      "Epoch 87/100\n",
      "5382/5382 [==============================] - 25s 5ms/step - loss: 3.3802 - acc: 0.2187\n",
      "Epoch 88/100\n",
      "5382/5382 [==============================] - 24s 4ms/step - loss: 3.3584 - acc: 0.2178\n",
      "Epoch 89/100\n",
      "5382/5382 [==============================] - 24s 4ms/step - loss: 3.3460 - acc: 0.2215\n",
      "Epoch 90/100\n",
      "5382/5382 [==============================] - 24s 4ms/step - loss: 3.3338 - acc: 0.2246\n",
      "Epoch 91/100\n",
      "5382/5382 [==============================] - 25s 5ms/step - loss: 3.3578 - acc: 0.2198\n",
      "Epoch 92/100\n",
      "5382/5382 [==============================] - 25s 5ms/step - loss: 3.2959 - acc: 0.2252\n",
      "Epoch 93/100\n",
      "5382/5382 [==============================] - 24s 4ms/step - loss: 3.2818 - acc: 0.2276\n",
      "Epoch 94/100\n",
      "5382/5382 [==============================] - 24s 4ms/step - loss: 3.2866 - acc: 0.2287\n",
      "Epoch 95/100\n",
      "5382/5382 [==============================] - 24s 4ms/step - loss: 3.2557 - acc: 0.2280\n",
      "Epoch 96/100\n",
      "5382/5382 [==============================] - 24s 5ms/step - loss: 3.2516 - acc: 0.2334\n",
      "Epoch 97/100\n",
      "5382/5382 [==============================] - 24s 4ms/step - loss: 3.2228 - acc: 0.2371\n",
      "Epoch 98/100\n",
      "5382/5382 [==============================] - 23s 4ms/step - loss: 3.2737 - acc: 0.2287\n",
      "Epoch 99/100\n",
      "5382/5382 [==============================] - 22s 4ms/step - loss: 3.2665 - acc: 0.2269\n",
      "Epoch 100/100\n",
      "5382/5382 [==============================] - 22s 4ms/step - loss: 3.2007 - acc: 0.2375\n"
     ]
    }
   ],
   "source": [
    "history = model.fit(predictors, label, epochs=100, verbose=1)"
   ]
  },
  {
   "cell_type": "code",
   "execution_count": 49,
   "metadata": {},
   "outputs": [
    {
     "data": {
      "image/png": "[encoded data removed]",
      "text/plain": [
       "<Figure size 432x288 with 1 Axes>"
      ]
     },
     "metadata": {
      "needs_background": "light"
     },
     "output_type": "display_data"
    },
    {
     "data": {
      "image/png": "[encoded data removed]",
      "text/plain": [
       "<Figure size 432x288 with 1 Axes>"
      ]
     },
     "metadata": {
      "needs_background": "light"
     },
     "output_type": "display_data"
    }
   ],
   "source": [
    "import matplotlib.pyplot as plt\n",
    "acc = history.history['acc']\n",
    "loss = history.history['loss']\n",
    "\n",
    "epochs = range(len(acc))\n",
    "\n",
    "plt.plot(epochs, acc, 'b', label='Training accuracy')\n",
    "plt.title('Training accuracy')\n",
    "\n",
    "plt.figure()\n",
    "\n",
    "plt.plot(epochs, loss, 'b', label='Training Loss')\n",
    "plt.title('Training loss')\n",
    "plt.legend()\n",
    "\n",
    "plt.show()"
   ]
  },
  {
   "cell_type": "code",
   "execution_count": 50,
   "metadata": {},
   "outputs": [
    {
     "name": "stdout",
     "output_type": "stream",
     "text": [
      "It will have to be paid for lostendofthesentence and the of the of the of the of the of the of the of the of the of the of the of the of the of the of the of the of the of the of the of the of the of the of the of the of the of the of the of the of the of the of the of the of the of the of the of the of the of the of the of the of the of the of the of the of the of the of the of the of the of\n"
     ]
    }
   ],
   "source": [
    "seed_text = \"It will have to be paid for\"\n",
    "next_words = 100\n",
    "  \n",
    "for _ in range(next_words):\n",
    "    token_list = tokenizer.texts_to_sequences([seed_text])[0]\n",
    "    token_list = pad_sequences([token_list], maxlen=max_sequence_len-1, padding='pre')\n",
    "    predicted = model.predict_classes(token_list, verbose=0)\n",
    "    output_word = \"\"\n",
    "    for word, index in tokenizer.word_index.items():\n",
    "        if index == predicted:\n",
    "            output_word = word\n",
    "            break\n",
    "    seed_text += \" \" + output_word\n",
    "print(seed_text)"
   ]
  },
  {
   "cell_type": "code",
   "execution_count": null,
   "metadata": {},
   "outputs": [],
   "source": []
  }
 ],
 "metadata": {
  "kernelspec": {
   "display_name": "Python3 (tensorflow)",
   "language": "python",
   "name": "tensorflow"
  },
  "language_info": {
   "codemirror_mode": {
    "name": "ipython",
    "version": 3
   },
   "file_extension": ".py",
   "mimetype": "text/x-python",
   "name": "python",
   "nbconvert_exporter": "python",
   "pygments_lexer": "ipython3",
   "version": "3.6.3"
  }
 },
 "nbformat": 4,
 "nbformat_minor": 2
}
